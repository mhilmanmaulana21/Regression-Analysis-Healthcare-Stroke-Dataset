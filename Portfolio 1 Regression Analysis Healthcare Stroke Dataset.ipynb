{
 "cells": [
  {
   "cell_type": "markdown",
   "id": "ebf6e3fa",
   "metadata": {},
   "source": [
    "# Regression Analysis : Studi Kasus pada Healthcare Stroke Dataset\n",
    "\n",
    "by **Muhammad Hilman Maulana** | last_update: July 2022"
   ]
  },
  {
   "cell_type": "markdown",
   "id": "be1ee700",
   "metadata": {},
   "source": [
    "### Our Understanding"
   ]
  },
  {
   "cell_type": "markdown",
   "id": "81df3048",
   "metadata": {},
   "source": [
    "Stroke, kondisi medis akibat buruknya aliran darah menuju otak sehingga mengakibatkan terjadinya kematian sel [source](https://id.wikipedia.org/wiki/Strok#Deteksi_dini), merupakan salah satu penyakit fatal dan dapat menyebabkan kematian. Data World Stroke Organization (WSO) menunjukkan bahwa setiap tahunnya terdapat 13,7 juta kasus baru stroke dan sekitar 5,5 juta kematian terjadi akibat penyakit stroke [source](https://pusdatin.kemkes.go.id/). Pengobatan penyakit stroke dapat dilakukan melalui beberapa metode bergantung kepada tingkat keparahan dan kondisi fisik pasien, hingga saat ini, penelitian medis masih terbuka dilakukan demi meningkatkan angka harapan hidup pasien penderita penyakit kanker. \n",
    "\n",
    "Pendekatan matematika dapat dilakukan untuk melihat serta menganalisis apa saja faktor utama yang secara signifikan dapat memengaruhi seseorang terkena penyakit stroke. Dataset yang tersedia memuat berbagai informasi relevan terkait dengan kondisi fisik seseorang apakah mereka terkena penyakit stroke atau tidak. Melalui explanatory analysis, kita dapat menghitung nilai korelasi antara masing-masing variabel input dengan variabel output. \n",
    "\n",
    "Sederhananya, akan dilakukan analisis regeresi menggunakan Logistic Regression untuk mengetahui hubungan antara variabel independen dengan variabel biner dependen melalui pencarian model yang dapat mengaproksimasi variabel dependen. Lebih jauh, nilai 1 pada output/dependen variabel merepresentasikan pasien terkena penyakit stoke sedangkan nilai 0 sebaliknya (tidak terkena penyakit stroke)."
   ]
  },
  {
   "cell_type": "markdown",
   "id": "c4eb88a7",
   "metadata": {},
   "source": [
    "### Data Source"
   ]
  },
  {
   "cell_type": "markdown",
   "id": "3abe7342",
   "metadata": {},
   "source": [
    "Data yang digunakan dapat diakses melalui [Stroke Prediction Dataset](https://www.kaggle.com/fedesoriano/stroke-prediction-dataset) yang terdiri beberapa kolom seperti `'gender'`, `'age'`, `'work_type'`, `'bmi'`, `'smoking_status'`, `'avg_glucose_leve'`, dll. Deskripsi lengkap terkait masing-masing kolom pada dataset tersebut dirangkum sbb.\n",
    "- id: unique identifier\n",
    "- gender: \"Male\", \"Female\" atau \"Other\"\n",
    "- age: usia pasien\n",
    "- hypertension: 0 pasien tidak memiliki hipertensi, 1 pasien memiliki hipertensi\n",
    "- heart_disease: 0 pasien tidak memiliki penyakit jantung, 1 pasien memiliki penyakit jantung\n",
    "- ever_married: \"No\" or \"Yes\"\n",
    "- work_type: \"children\", \"Govt_jov\", \"Never_worked\", \"Private\" atau \"Self-employed\"\n",
    "- Residence_type: \"Rural\" or \"Urban\"\n",
    "- avg_glucose_level: average glucose level in blood\n",
    "- bmi: body mass index\n",
    "- smoking_status: \"formerly smoked\", \"never smoked\", \"smokes\" atau \"Unknown\"*\n",
    "- stroke: 1 terkena stroke, 0 tidak terkena stroke"
   ]
  },
  {
   "cell_type": "markdown",
   "id": "9fa136f3",
   "metadata": {},
   "source": [
    "### Reference"
   ]
  },
  {
   "cell_type": "markdown",
   "id": "e659e025",
   "metadata": {},
   "source": [
    "Hwang, Y. H. (2019). Hands-On Data Science for Marketing. Birmingham: Packt Publishing Ltd."
   ]
  },
  {
   "cell_type": "markdown",
   "id": "24393561",
   "metadata": {},
   "source": [
    "### Data Cleaning and Overview"
   ]
  },
  {
   "cell_type": "code",
   "execution_count": 2,
   "id": "bcfddcb2",
   "metadata": {},
   "outputs": [],
   "source": [
    "%matplotlib inline\n",
    "import pandas as pd\n",
    "import matplotlib.pyplot as plt\n",
    "import seaborn as sns\n",
    "import statsmodels.api as sm"
   ]
  },
  {
   "cell_type": "code",
   "execution_count": 2,
   "id": "4a2e0419",
   "metadata": {},
   "outputs": [],
   "source": [
    "data = pd.read_csv(\"Dataset/healthcare-dataset-stroke-data.csv\")\n",
    "data = data.drop(data[data.gender == \"Other\"].index)\n",
    "pd.set_option(\"display.max_columns\", None)"
   ]
  },
  {
   "cell_type": "code",
   "execution_count": 3,
   "id": "f1a303b2",
   "metadata": {},
   "outputs": [
    {
     "data": {
      "text/html": [
       "<div>\n",
       "<style scoped>\n",
       "    .dataframe tbody tr th:only-of-type {\n",
       "        vertical-align: middle;\n",
       "    }\n",
       "\n",
       "    .dataframe tbody tr th {\n",
       "        vertical-align: top;\n",
       "    }\n",
       "\n",
       "    .dataframe thead th {\n",
       "        text-align: right;\n",
       "    }\n",
       "</style>\n",
       "<table border=\"1\" class=\"dataframe\">\n",
       "  <thead>\n",
       "    <tr style=\"text-align: right;\">\n",
       "      <th></th>\n",
       "      <th>id</th>\n",
       "      <th>gender</th>\n",
       "      <th>age</th>\n",
       "      <th>hypertension</th>\n",
       "      <th>heart_disease</th>\n",
       "      <th>ever_married</th>\n",
       "      <th>work_type</th>\n",
       "      <th>Residence_type</th>\n",
       "      <th>avg_glucose_level</th>\n",
       "      <th>bmi</th>\n",
       "      <th>smoking_status</th>\n",
       "      <th>stroke</th>\n",
       "    </tr>\n",
       "  </thead>\n",
       "  <tbody>\n",
       "    <tr>\n",
       "      <th>0</th>\n",
       "      <td>9046</td>\n",
       "      <td>Male</td>\n",
       "      <td>67.0</td>\n",
       "      <td>0</td>\n",
       "      <td>1</td>\n",
       "      <td>Yes</td>\n",
       "      <td>Private</td>\n",
       "      <td>Urban</td>\n",
       "      <td>228.69</td>\n",
       "      <td>36.6</td>\n",
       "      <td>formerly smoked</td>\n",
       "      <td>1</td>\n",
       "    </tr>\n",
       "    <tr>\n",
       "      <th>1</th>\n",
       "      <td>51676</td>\n",
       "      <td>Female</td>\n",
       "      <td>61.0</td>\n",
       "      <td>0</td>\n",
       "      <td>0</td>\n",
       "      <td>Yes</td>\n",
       "      <td>Self-employed</td>\n",
       "      <td>Rural</td>\n",
       "      <td>202.21</td>\n",
       "      <td>NaN</td>\n",
       "      <td>never smoked</td>\n",
       "      <td>1</td>\n",
       "    </tr>\n",
       "    <tr>\n",
       "      <th>2</th>\n",
       "      <td>31112</td>\n",
       "      <td>Male</td>\n",
       "      <td>80.0</td>\n",
       "      <td>0</td>\n",
       "      <td>1</td>\n",
       "      <td>Yes</td>\n",
       "      <td>Private</td>\n",
       "      <td>Rural</td>\n",
       "      <td>105.92</td>\n",
       "      <td>32.5</td>\n",
       "      <td>never smoked</td>\n",
       "      <td>1</td>\n",
       "    </tr>\n",
       "    <tr>\n",
       "      <th>3</th>\n",
       "      <td>60182</td>\n",
       "      <td>Female</td>\n",
       "      <td>49.0</td>\n",
       "      <td>0</td>\n",
       "      <td>0</td>\n",
       "      <td>Yes</td>\n",
       "      <td>Private</td>\n",
       "      <td>Urban</td>\n",
       "      <td>171.23</td>\n",
       "      <td>34.4</td>\n",
       "      <td>smokes</td>\n",
       "      <td>1</td>\n",
       "    </tr>\n",
       "    <tr>\n",
       "      <th>4</th>\n",
       "      <td>1665</td>\n",
       "      <td>Female</td>\n",
       "      <td>79.0</td>\n",
       "      <td>1</td>\n",
       "      <td>0</td>\n",
       "      <td>Yes</td>\n",
       "      <td>Self-employed</td>\n",
       "      <td>Rural</td>\n",
       "      <td>174.12</td>\n",
       "      <td>24.0</td>\n",
       "      <td>never smoked</td>\n",
       "      <td>1</td>\n",
       "    </tr>\n",
       "  </tbody>\n",
       "</table>\n",
       "</div>"
      ],
      "text/plain": [
       "      id  gender   age  hypertension  heart_disease ever_married  \\\n",
       "0   9046    Male  67.0             0              1          Yes   \n",
       "1  51676  Female  61.0             0              0          Yes   \n",
       "2  31112    Male  80.0             0              1          Yes   \n",
       "3  60182  Female  49.0             0              0          Yes   \n",
       "4   1665  Female  79.0             1              0          Yes   \n",
       "\n",
       "       work_type Residence_type  avg_glucose_level   bmi   smoking_status  \\\n",
       "0        Private          Urban             228.69  36.6  formerly smoked   \n",
       "1  Self-employed          Rural             202.21   NaN     never smoked   \n",
       "2        Private          Rural             105.92  32.5     never smoked   \n",
       "3        Private          Urban             171.23  34.4           smokes   \n",
       "4  Self-employed          Rural             174.12  24.0     never smoked   \n",
       "\n",
       "   stroke  \n",
       "0       1  \n",
       "1       1  \n",
       "2       1  \n",
       "3       1  \n",
       "4       1  "
      ]
     },
     "execution_count": 3,
     "metadata": {},
     "output_type": "execute_result"
    }
   ],
   "source": [
    "data.head()"
   ]
  },
  {
   "cell_type": "code",
   "execution_count": 4,
   "id": "9dbc9259",
   "metadata": {},
   "outputs": [
    {
     "data": {
      "text/plain": [
       "(5109, 12)"
      ]
     },
     "execution_count": 4,
     "metadata": {},
     "output_type": "execute_result"
    }
   ],
   "source": [
    "data.shape"
   ]
  },
  {
   "cell_type": "code",
   "execution_count": 5,
   "id": "ef031c67",
   "metadata": {},
   "outputs": [
    {
     "name": "stdout",
     "output_type": "stream",
     "text": [
      "<class 'pandas.core.frame.DataFrame'>\n",
      "Int64Index: 5109 entries, 0 to 5109\n",
      "Data columns (total 12 columns):\n",
      " #   Column             Non-Null Count  Dtype  \n",
      "---  ------             --------------  -----  \n",
      " 0   id                 5109 non-null   int64  \n",
      " 1   gender             5109 non-null   object \n",
      " 2   age                5109 non-null   float64\n",
      " 3   hypertension       5109 non-null   int64  \n",
      " 4   heart_disease      5109 non-null   int64  \n",
      " 5   ever_married       5109 non-null   object \n",
      " 6   work_type          5109 non-null   object \n",
      " 7   Residence_type     5109 non-null   object \n",
      " 8   avg_glucose_level  5109 non-null   float64\n",
      " 9   bmi                4908 non-null   float64\n",
      " 10  smoking_status     5109 non-null   object \n",
      " 11  stroke             5109 non-null   int64  \n",
      "dtypes: float64(3), int64(4), object(5)\n",
      "memory usage: 518.9+ KB\n"
     ]
    }
   ],
   "source": [
    "data.info()"
   ]
  },
  {
   "cell_type": "code",
   "execution_count": 6,
   "id": "ab9696d4",
   "metadata": {},
   "outputs": [
    {
     "data": {
      "text/plain": [
       "False"
      ]
     },
     "execution_count": 6,
     "metadata": {},
     "output_type": "execute_result"
    }
   ],
   "source": [
    "data.duplicated().any()"
   ]
  },
  {
   "cell_type": "code",
   "execution_count": 7,
   "id": "0322a6e2",
   "metadata": {},
   "outputs": [
    {
     "data": {
      "text/plain": [
       "id                   0.000000\n",
       "gender               0.000000\n",
       "age                  0.000000\n",
       "hypertension         0.000000\n",
       "heart_disease        0.000000\n",
       "ever_married         0.000000\n",
       "work_type            0.000000\n",
       "Residence_type       0.000000\n",
       "avg_glucose_level    0.000000\n",
       "bmi                  3.934234\n",
       "smoking_status       0.000000\n",
       "stroke               0.000000\n",
       "dtype: float64"
      ]
     },
     "execution_count": 7,
     "metadata": {},
     "output_type": "execute_result"
    }
   ],
   "source": [
    "data.isnull().sum()/data.shape[0]*100"
   ]
  },
  {
   "cell_type": "code",
   "execution_count": 8,
   "id": "b10df9e6",
   "metadata": {},
   "outputs": [],
   "source": [
    "data.dropna(subset=[\"bmi\"], inplace=True)"
   ]
  },
  {
   "cell_type": "code",
   "execution_count": 9,
   "id": "52cf833d",
   "metadata": {},
   "outputs": [
    {
     "data": {
      "text/plain": [
       "id                   0\n",
       "gender               0\n",
       "age                  0\n",
       "hypertension         0\n",
       "heart_disease        0\n",
       "ever_married         0\n",
       "work_type            0\n",
       "Residence_type       0\n",
       "avg_glucose_level    0\n",
       "bmi                  0\n",
       "smoking_status       0\n",
       "stroke               0\n",
       "dtype: int64"
      ]
     },
     "execution_count": 9,
     "metadata": {},
     "output_type": "execute_result"
    }
   ],
   "source": [
    "data.isnull().sum()"
   ]
  },
  {
   "cell_type": "code",
   "execution_count": 10,
   "id": "4301ed7c",
   "metadata": {},
   "outputs": [
    {
     "data": {
      "text/plain": [
       "(4908, 12)"
      ]
     },
     "execution_count": 10,
     "metadata": {},
     "output_type": "execute_result"
    }
   ],
   "source": [
    "data.shape"
   ]
  },
  {
   "cell_type": "markdown",
   "id": "9bfe2bee",
   "metadata": {},
   "source": [
    "#### Key Takeaways\n",
    "- Data original terdiri dari 5109 baris dan 12 kolom.\n",
    "- Tidak terdapat duplikat data.\n",
    "- Terdapat 3.9% missing values dari kolom bmi.\n",
    "- Setelah drop missing values kolom bmi, dimensi baru data menjadi (4908, 12).\n"
   ]
  },
  {
   "cell_type": "code",
   "execution_count": 11,
   "id": "92a72dc3",
   "metadata": {},
   "outputs": [
    {
     "data": {
      "text/html": [
       "<div>\n",
       "<style scoped>\n",
       "    .dataframe tbody tr th:only-of-type {\n",
       "        vertical-align: middle;\n",
       "    }\n",
       "\n",
       "    .dataframe tbody tr th {\n",
       "        vertical-align: top;\n",
       "    }\n",
       "\n",
       "    .dataframe thead th {\n",
       "        text-align: right;\n",
       "    }\n",
       "</style>\n",
       "<table border=\"1\" class=\"dataframe\">\n",
       "  <thead>\n",
       "    <tr style=\"text-align: right;\">\n",
       "      <th></th>\n",
       "      <th>id</th>\n",
       "      <th>gender</th>\n",
       "      <th>age</th>\n",
       "      <th>hypertension</th>\n",
       "      <th>heart_disease</th>\n",
       "      <th>ever_married</th>\n",
       "      <th>work_type</th>\n",
       "      <th>Residence_type</th>\n",
       "      <th>avg_glucose_level</th>\n",
       "      <th>bmi</th>\n",
       "      <th>smoking_status</th>\n",
       "      <th>stroke</th>\n",
       "    </tr>\n",
       "  </thead>\n",
       "  <tbody>\n",
       "    <tr>\n",
       "      <th>0</th>\n",
       "      <td>9046</td>\n",
       "      <td>Male</td>\n",
       "      <td>67.0</td>\n",
       "      <td>0</td>\n",
       "      <td>1</td>\n",
       "      <td>Yes</td>\n",
       "      <td>Private</td>\n",
       "      <td>Urban</td>\n",
       "      <td>228.69</td>\n",
       "      <td>36.6</td>\n",
       "      <td>formerly smoked</td>\n",
       "      <td>1</td>\n",
       "    </tr>\n",
       "    <tr>\n",
       "      <th>2</th>\n",
       "      <td>31112</td>\n",
       "      <td>Male</td>\n",
       "      <td>80.0</td>\n",
       "      <td>0</td>\n",
       "      <td>1</td>\n",
       "      <td>Yes</td>\n",
       "      <td>Private</td>\n",
       "      <td>Rural</td>\n",
       "      <td>105.92</td>\n",
       "      <td>32.5</td>\n",
       "      <td>never smoked</td>\n",
       "      <td>1</td>\n",
       "    </tr>\n",
       "    <tr>\n",
       "      <th>3</th>\n",
       "      <td>60182</td>\n",
       "      <td>Female</td>\n",
       "      <td>49.0</td>\n",
       "      <td>0</td>\n",
       "      <td>0</td>\n",
       "      <td>Yes</td>\n",
       "      <td>Private</td>\n",
       "      <td>Urban</td>\n",
       "      <td>171.23</td>\n",
       "      <td>34.4</td>\n",
       "      <td>smokes</td>\n",
       "      <td>1</td>\n",
       "    </tr>\n",
       "    <tr>\n",
       "      <th>4</th>\n",
       "      <td>1665</td>\n",
       "      <td>Female</td>\n",
       "      <td>79.0</td>\n",
       "      <td>1</td>\n",
       "      <td>0</td>\n",
       "      <td>Yes</td>\n",
       "      <td>Self-employed</td>\n",
       "      <td>Rural</td>\n",
       "      <td>174.12</td>\n",
       "      <td>24.0</td>\n",
       "      <td>never smoked</td>\n",
       "      <td>1</td>\n",
       "    </tr>\n",
       "    <tr>\n",
       "      <th>5</th>\n",
       "      <td>56669</td>\n",
       "      <td>Male</td>\n",
       "      <td>81.0</td>\n",
       "      <td>0</td>\n",
       "      <td>0</td>\n",
       "      <td>Yes</td>\n",
       "      <td>Private</td>\n",
       "      <td>Urban</td>\n",
       "      <td>186.21</td>\n",
       "      <td>29.0</td>\n",
       "      <td>formerly smoked</td>\n",
       "      <td>1</td>\n",
       "    </tr>\n",
       "  </tbody>\n",
       "</table>\n",
       "</div>"
      ],
      "text/plain": [
       "      id  gender   age  hypertension  heart_disease ever_married  \\\n",
       "0   9046    Male  67.0             0              1          Yes   \n",
       "2  31112    Male  80.0             0              1          Yes   \n",
       "3  60182  Female  49.0             0              0          Yes   \n",
       "4   1665  Female  79.0             1              0          Yes   \n",
       "5  56669    Male  81.0             0              0          Yes   \n",
       "\n",
       "       work_type Residence_type  avg_glucose_level   bmi   smoking_status  \\\n",
       "0        Private          Urban             228.69  36.6  formerly smoked   \n",
       "2        Private          Rural             105.92  32.5     never smoked   \n",
       "3        Private          Urban             171.23  34.4           smokes   \n",
       "4  Self-employed          Rural             174.12  24.0     never smoked   \n",
       "5        Private          Urban             186.21  29.0  formerly smoked   \n",
       "\n",
       "   stroke  \n",
       "0       1  \n",
       "2       1  \n",
       "3       1  \n",
       "4       1  \n",
       "5       1  "
      ]
     },
     "execution_count": 11,
     "metadata": {},
     "output_type": "execute_result"
    }
   ],
   "source": [
    "data.head()"
   ]
  },
  {
   "cell_type": "code",
   "execution_count": 12,
   "id": "de5d49bf",
   "metadata": {},
   "outputs": [
    {
     "data": {
      "text/html": [
       "<div>\n",
       "<style scoped>\n",
       "    .dataframe tbody tr th:only-of-type {\n",
       "        vertical-align: middle;\n",
       "    }\n",
       "\n",
       "    .dataframe tbody tr th {\n",
       "        vertical-align: top;\n",
       "    }\n",
       "\n",
       "    .dataframe thead th {\n",
       "        text-align: right;\n",
       "    }\n",
       "</style>\n",
       "<table border=\"1\" class=\"dataframe\">\n",
       "  <thead>\n",
       "    <tr style=\"text-align: right;\">\n",
       "      <th></th>\n",
       "      <th>id</th>\n",
       "      <th>age</th>\n",
       "      <th>hypertension</th>\n",
       "      <th>heart_disease</th>\n",
       "      <th>avg_glucose_level</th>\n",
       "      <th>bmi</th>\n",
       "      <th>stroke</th>\n",
       "    </tr>\n",
       "  </thead>\n",
       "  <tbody>\n",
       "    <tr>\n",
       "      <th>count</th>\n",
       "      <td>4908.000000</td>\n",
       "      <td>4908.000000</td>\n",
       "      <td>4908.000000</td>\n",
       "      <td>4908.000000</td>\n",
       "      <td>4908.000000</td>\n",
       "      <td>4908.00000</td>\n",
       "      <td>4908.000000</td>\n",
       "    </tr>\n",
       "    <tr>\n",
       "      <th>mean</th>\n",
       "      <td>37060.423594</td>\n",
       "      <td>42.868810</td>\n",
       "      <td>0.091891</td>\n",
       "      <td>0.049511</td>\n",
       "      <td>105.297402</td>\n",
       "      <td>28.89456</td>\n",
       "      <td>0.042584</td>\n",
       "    </tr>\n",
       "    <tr>\n",
       "      <th>std</th>\n",
       "      <td>20995.468407</td>\n",
       "      <td>22.556128</td>\n",
       "      <td>0.288901</td>\n",
       "      <td>0.216954</td>\n",
       "      <td>44.425550</td>\n",
       "      <td>7.85432</td>\n",
       "      <td>0.201937</td>\n",
       "    </tr>\n",
       "    <tr>\n",
       "      <th>min</th>\n",
       "      <td>77.000000</td>\n",
       "      <td>0.080000</td>\n",
       "      <td>0.000000</td>\n",
       "      <td>0.000000</td>\n",
       "      <td>55.120000</td>\n",
       "      <td>10.30000</td>\n",
       "      <td>0.000000</td>\n",
       "    </tr>\n",
       "    <tr>\n",
       "      <th>25%</th>\n",
       "      <td>18602.500000</td>\n",
       "      <td>25.000000</td>\n",
       "      <td>0.000000</td>\n",
       "      <td>0.000000</td>\n",
       "      <td>77.067500</td>\n",
       "      <td>23.50000</td>\n",
       "      <td>0.000000</td>\n",
       "    </tr>\n",
       "    <tr>\n",
       "      <th>50%</th>\n",
       "      <td>37580.500000</td>\n",
       "      <td>44.000000</td>\n",
       "      <td>0.000000</td>\n",
       "      <td>0.000000</td>\n",
       "      <td>91.680000</td>\n",
       "      <td>28.10000</td>\n",
       "      <td>0.000000</td>\n",
       "    </tr>\n",
       "    <tr>\n",
       "      <th>75%</th>\n",
       "      <td>55181.750000</td>\n",
       "      <td>60.000000</td>\n",
       "      <td>0.000000</td>\n",
       "      <td>0.000000</td>\n",
       "      <td>113.495000</td>\n",
       "      <td>33.10000</td>\n",
       "      <td>0.000000</td>\n",
       "    </tr>\n",
       "    <tr>\n",
       "      <th>max</th>\n",
       "      <td>72940.000000</td>\n",
       "      <td>82.000000</td>\n",
       "      <td>1.000000</td>\n",
       "      <td>1.000000</td>\n",
       "      <td>271.740000</td>\n",
       "      <td>97.60000</td>\n",
       "      <td>1.000000</td>\n",
       "    </tr>\n",
       "  </tbody>\n",
       "</table>\n",
       "</div>"
      ],
      "text/plain": [
       "                 id          age  hypertension  heart_disease  \\\n",
       "count   4908.000000  4908.000000   4908.000000    4908.000000   \n",
       "mean   37060.423594    42.868810      0.091891       0.049511   \n",
       "std    20995.468407    22.556128      0.288901       0.216954   \n",
       "min       77.000000     0.080000      0.000000       0.000000   \n",
       "25%    18602.500000    25.000000      0.000000       0.000000   \n",
       "50%    37580.500000    44.000000      0.000000       0.000000   \n",
       "75%    55181.750000    60.000000      0.000000       0.000000   \n",
       "max    72940.000000    82.000000      1.000000       1.000000   \n",
       "\n",
       "       avg_glucose_level         bmi       stroke  \n",
       "count        4908.000000  4908.00000  4908.000000  \n",
       "mean          105.297402    28.89456     0.042584  \n",
       "std            44.425550     7.85432     0.201937  \n",
       "min            55.120000    10.30000     0.000000  \n",
       "25%            77.067500    23.50000     0.000000  \n",
       "50%            91.680000    28.10000     0.000000  \n",
       "75%           113.495000    33.10000     0.000000  \n",
       "max           271.740000    97.60000     1.000000  "
      ]
     },
     "execution_count": 12,
     "metadata": {},
     "output_type": "execute_result"
    }
   ],
   "source": [
    "data.describe()"
   ]
  },
  {
   "cell_type": "code",
   "execution_count": 13,
   "id": "895187a5",
   "metadata": {},
   "outputs": [
    {
     "data": {
      "text/plain": [
       "170.2425"
      ]
     },
     "execution_count": 13,
     "metadata": {},
     "output_type": "execute_result"
    }
   ],
   "source": [
    "113.495000*1.5"
   ]
  },
  {
   "cell_type": "code",
   "execution_count": 14,
   "id": "e9e7ffd0",
   "metadata": {},
   "outputs": [
    {
     "data": {
      "image/png": "[encoded data removed]",
      "text/plain": [
       "<Figure size 1800x288 with 3 Axes>"
      ]
     },
     "metadata": {
      "needs_background": "light"
     },
     "output_type": "display_data"
    }
   ],
   "source": [
    "kolom = [\"age\",\"avg_glucose_level\",\"bmi\"]\n",
    "plt.figure(figsize=(25,4))\n",
    "j = 1\n",
    "for i in kolom :\n",
    "    plt.subplot(1,3,j)\n",
    "    #plt.grid()\n",
    "    sns.boxplot(data[i], palette=\"mako\").set_title(\"Boxplot Kolom \"+i,weight='bold')        \n",
    "    j=j+1 "
   ]
  },
  {
   "cell_type": "code",
   "execution_count": 15,
   "id": "796e452a",
   "metadata": {},
   "outputs": [],
   "source": [
    "out_bmi = data[data[\"bmi\"]>49]\n",
    "out_gluc = data[data[\"avg_glucose_level\"]>170.2425]"
   ]
  },
  {
   "cell_type": "code",
   "execution_count": 16,
   "id": "5b6ec593",
   "metadata": {},
   "outputs": [
    {
     "data": {
      "text/html": [
       "<div>\n",
       "<style scoped>\n",
       "    .dataframe tbody tr th:only-of-type {\n",
       "        vertical-align: middle;\n",
       "    }\n",
       "\n",
       "    .dataframe tbody tr th {\n",
       "        vertical-align: top;\n",
       "    }\n",
       "\n",
       "    .dataframe thead th {\n",
       "        text-align: right;\n",
       "    }\n",
       "</style>\n",
       "<table border=\"1\" class=\"dataframe\">\n",
       "  <thead>\n",
       "    <tr style=\"text-align: right;\">\n",
       "      <th></th>\n",
       "      <th>id</th>\n",
       "    </tr>\n",
       "    <tr>\n",
       "      <th>stroke</th>\n",
       "      <th></th>\n",
       "    </tr>\n",
       "  </thead>\n",
       "  <tbody>\n",
       "    <tr>\n",
       "      <th>0</th>\n",
       "      <td>98.888889</td>\n",
       "    </tr>\n",
       "    <tr>\n",
       "      <th>1</th>\n",
       "      <td>1.111111</td>\n",
       "    </tr>\n",
       "  </tbody>\n",
       "</table>\n",
       "</div>"
      ],
      "text/plain": [
       "               id\n",
       "stroke           \n",
       "0       98.888889\n",
       "1        1.111111"
      ]
     },
     "execution_count": 16,
     "metadata": {},
     "output_type": "execute_result"
    }
   ],
   "source": [
    "stroke_out_bmi =  pd.DataFrame(out_bmi.groupby('stroke')['id'].count() / out_bmi.shape[0] * 100.0)\n",
    "stroke_out_bmi"
   ]
  },
  {
   "cell_type": "code",
   "execution_count": 17,
   "id": "9c741086",
   "metadata": {},
   "outputs": [
    {
     "data": {
      "text/html": [
       "<div>\n",
       "<style scoped>\n",
       "    .dataframe tbody tr th:only-of-type {\n",
       "        vertical-align: middle;\n",
       "    }\n",
       "\n",
       "    .dataframe tbody tr th {\n",
       "        vertical-align: top;\n",
       "    }\n",
       "\n",
       "    .dataframe thead th {\n",
       "        text-align: right;\n",
       "    }\n",
       "</style>\n",
       "<table border=\"1\" class=\"dataframe\">\n",
       "  <thead>\n",
       "    <tr style=\"text-align: right;\">\n",
       "      <th></th>\n",
       "      <th>id</th>\n",
       "    </tr>\n",
       "    <tr>\n",
       "      <th>stroke</th>\n",
       "      <th></th>\n",
       "    </tr>\n",
       "  </thead>\n",
       "  <tbody>\n",
       "    <tr>\n",
       "      <th>0</th>\n",
       "      <td>86.964286</td>\n",
       "    </tr>\n",
       "    <tr>\n",
       "      <th>1</th>\n",
       "      <td>13.035714</td>\n",
       "    </tr>\n",
       "  </tbody>\n",
       "</table>\n",
       "</div>"
      ],
      "text/plain": [
       "               id\n",
       "stroke           \n",
       "0       86.964286\n",
       "1       13.035714"
      ]
     },
     "execution_count": 17,
     "metadata": {},
     "output_type": "execute_result"
    }
   ],
   "source": [
    "stroke_out_gluc =  pd.DataFrame(out_gluc.groupby('stroke')['id'].count() / out_gluc.shape[0] * 100.0)\n",
    "stroke_out_gluc"
   ]
  },
  {
   "cell_type": "markdown",
   "id": "b441cde9",
   "metadata": {},
   "source": [
    "#### Key Takeaways\n",
    "- Terdapat outliers pada kolom avg_glucose_level dan bmi.\n",
    "- Untuk data-data outlier pada kolom bmi, sebesar 98.88% pasien tidak terkena penyakit stroke dan 1.11% lainnya terkena stroke. Hal ini memberikan hipotesis bahwa, data-data yang semakin besar dan dinyatakan sebagai outlier tidak begitu mempengaruhi seseorang terkena stroke atau tidak. Sedangkan untuk data outlier pd kolom avg_glucose_level, sebesar 86.96% pasien dinyakan terkena stroke dan 13.04% lainnya tidak. \n",
    "- Kemudian akan dilakukan segmentasi untuk kelompok umur dengan kriteria sebagai berikut\n",
    "    - Baby:[0,3)\n",
    "    - Young Adults [3,40)\n",
    "    - Middle Adults [40,60)\n",
    "    - Old Adults [60,100)\n",
    "- Dari hasil visualisasi, proporsi paling banyak untuk kelompok usia yaitu Young Adults dengan persentase sebesar 39.61%."
   ]
  },
  {
   "cell_type": "code",
   "execution_count": 18,
   "id": "07b18674",
   "metadata": {},
   "outputs": [],
   "source": [
    "def segment_age(x):\n",
    "    segment = ''\n",
    "    if x[\"age\"] >= 0 and x[\"age\"] < 3:\n",
    "        segment = \"Baby [0,3)\"\n",
    "    elif x[\"age\"] >= 3 and x[\"age\"] < 40:\n",
    "        segment = \"Young Adults [3,40)\"\n",
    "    elif x[\"age\"] >= 40 and x[\"age\"] < 60:\n",
    "        segment = \"Middle Adults [40,60)\"\n",
    "    elif x[\"age\"] >= 60 and x[\"age\"] < 100:\n",
    "        segment = \"Old Adults [60,100)\"\n",
    "    return segment\n",
    "\n",
    "data[\"Segment_Age\"] = data.apply(lambda x : segment_age(x), axis=1)"
   ]
  },
  {
   "cell_type": "code",
   "execution_count": 19,
   "id": "c32862f4",
   "metadata": {},
   "outputs": [
    {
     "data": {
      "image/png": "[encoded data removed]",
      "text/plain": [
       "<Figure size 720x504 with 1 Axes>"
      ]
     },
     "metadata": {
      "needs_background": "light"
     },
     "output_type": "display_data"
    }
   ],
   "source": [
    "plt.figure(figsize=(10,7)) \n",
    "plt.title(\"Percentage of Segmen Age\", fontsize = 12,fontweight=\"bold\")\n",
    "ax=sns.countplot(data[\"Segment_Age\"], palette=\"mako\")\n",
    "plt.xlabel(\"Segmen Age\", fontsize = 11)\n",
    "plt.ylabel(\"Count\", fontsize = 11)\n",
    "total=len(data)\n",
    "for p in ax.patches:\n",
    "        ax.annotate(f'{100 * p.get_height() / total:.2f}%\\n', (p.get_x() + p.get_width() / 2,p.get_height()),ha='center', va='center',weight='bold')"
   ]
  },
  {
   "cell_type": "code",
   "execution_count": 20,
   "id": "274b77b3",
   "metadata": {},
   "outputs": [
    {
     "data": {
      "text/html": [
       "<div>\n",
       "<style scoped>\n",
       "    .dataframe tbody tr th:only-of-type {\n",
       "        vertical-align: middle;\n",
       "    }\n",
       "\n",
       "    .dataframe tbody tr th {\n",
       "        vertical-align: top;\n",
       "    }\n",
       "\n",
       "    .dataframe thead th {\n",
       "        text-align: right;\n",
       "    }\n",
       "</style>\n",
       "<table border=\"1\" class=\"dataframe\">\n",
       "  <thead>\n",
       "    <tr style=\"text-align: right;\">\n",
       "      <th></th>\n",
       "      <th>id</th>\n",
       "      <th>gender</th>\n",
       "      <th>age</th>\n",
       "      <th>hypertension</th>\n",
       "      <th>heart_disease</th>\n",
       "      <th>ever_married</th>\n",
       "      <th>work_type</th>\n",
       "      <th>Residence_type</th>\n",
       "      <th>avg_glucose_level</th>\n",
       "      <th>bmi</th>\n",
       "      <th>smoking_status</th>\n",
       "      <th>stroke</th>\n",
       "      <th>Segment_Age</th>\n",
       "    </tr>\n",
       "  </thead>\n",
       "  <tbody>\n",
       "    <tr>\n",
       "      <th>363</th>\n",
       "      <td>7559</td>\n",
       "      <td>Female</td>\n",
       "      <td>0.64</td>\n",
       "      <td>0</td>\n",
       "      <td>0</td>\n",
       "      <td>No</td>\n",
       "      <td>children</td>\n",
       "      <td>Urban</td>\n",
       "      <td>83.82</td>\n",
       "      <td>24.9</td>\n",
       "      <td>Unknown</td>\n",
       "      <td>0</td>\n",
       "      <td>Baby [0,3)</td>\n",
       "    </tr>\n",
       "    <tr>\n",
       "      <th>376</th>\n",
       "      <td>22706</td>\n",
       "      <td>Female</td>\n",
       "      <td>0.88</td>\n",
       "      <td>0</td>\n",
       "      <td>0</td>\n",
       "      <td>No</td>\n",
       "      <td>children</td>\n",
       "      <td>Rural</td>\n",
       "      <td>88.11</td>\n",
       "      <td>15.5</td>\n",
       "      <td>Unknown</td>\n",
       "      <td>0</td>\n",
       "      <td>Baby [0,3)</td>\n",
       "    </tr>\n",
       "    <tr>\n",
       "      <th>437</th>\n",
       "      <td>5010</td>\n",
       "      <td>Female</td>\n",
       "      <td>2.00</td>\n",
       "      <td>0</td>\n",
       "      <td>0</td>\n",
       "      <td>No</td>\n",
       "      <td>children</td>\n",
       "      <td>Rural</td>\n",
       "      <td>92.48</td>\n",
       "      <td>18.0</td>\n",
       "      <td>Unknown</td>\n",
       "      <td>0</td>\n",
       "      <td>Baby [0,3)</td>\n",
       "    </tr>\n",
       "    <tr>\n",
       "      <th>562</th>\n",
       "      <td>45238</td>\n",
       "      <td>Female</td>\n",
       "      <td>1.80</td>\n",
       "      <td>0</td>\n",
       "      <td>0</td>\n",
       "      <td>No</td>\n",
       "      <td>children</td>\n",
       "      <td>Urban</td>\n",
       "      <td>58.26</td>\n",
       "      <td>16.5</td>\n",
       "      <td>Unknown</td>\n",
       "      <td>0</td>\n",
       "      <td>Baby [0,3)</td>\n",
       "    </tr>\n",
       "    <tr>\n",
       "      <th>564</th>\n",
       "      <td>61511</td>\n",
       "      <td>Female</td>\n",
       "      <td>0.32</td>\n",
       "      <td>0</td>\n",
       "      <td>0</td>\n",
       "      <td>No</td>\n",
       "      <td>children</td>\n",
       "      <td>Rural</td>\n",
       "      <td>73.71</td>\n",
       "      <td>16.2</td>\n",
       "      <td>Unknown</td>\n",
       "      <td>0</td>\n",
       "      <td>Baby [0,3)</td>\n",
       "    </tr>\n",
       "    <tr>\n",
       "      <th>...</th>\n",
       "      <td>...</td>\n",
       "      <td>...</td>\n",
       "      <td>...</td>\n",
       "      <td>...</td>\n",
       "      <td>...</td>\n",
       "      <td>...</td>\n",
       "      <td>...</td>\n",
       "      <td>...</td>\n",
       "      <td>...</td>\n",
       "      <td>...</td>\n",
       "      <td>...</td>\n",
       "      <td>...</td>\n",
       "      <td>...</td>\n",
       "    </tr>\n",
       "    <tr>\n",
       "      <th>4961</th>\n",
       "      <td>3720</td>\n",
       "      <td>Female</td>\n",
       "      <td>2.00</td>\n",
       "      <td>0</td>\n",
       "      <td>0</td>\n",
       "      <td>No</td>\n",
       "      <td>children</td>\n",
       "      <td>Rural</td>\n",
       "      <td>80.30</td>\n",
       "      <td>21.2</td>\n",
       "      <td>Unknown</td>\n",
       "      <td>0</td>\n",
       "      <td>Baby [0,3)</td>\n",
       "    </tr>\n",
       "    <tr>\n",
       "      <th>5032</th>\n",
       "      <td>67426</td>\n",
       "      <td>Female</td>\n",
       "      <td>1.24</td>\n",
       "      <td>0</td>\n",
       "      <td>0</td>\n",
       "      <td>No</td>\n",
       "      <td>children</td>\n",
       "      <td>Rural</td>\n",
       "      <td>61.94</td>\n",
       "      <td>20.3</td>\n",
       "      <td>Unknown</td>\n",
       "      <td>0</td>\n",
       "      <td>Baby [0,3)</td>\n",
       "    </tr>\n",
       "    <tr>\n",
       "      <th>5079</th>\n",
       "      <td>42709</td>\n",
       "      <td>Male</td>\n",
       "      <td>1.72</td>\n",
       "      <td>0</td>\n",
       "      <td>0</td>\n",
       "      <td>No</td>\n",
       "      <td>children</td>\n",
       "      <td>Urban</td>\n",
       "      <td>77.28</td>\n",
       "      <td>17.1</td>\n",
       "      <td>Unknown</td>\n",
       "      <td>0</td>\n",
       "      <td>Baby [0,3)</td>\n",
       "    </tr>\n",
       "    <tr>\n",
       "      <th>5089</th>\n",
       "      <td>56714</td>\n",
       "      <td>Female</td>\n",
       "      <td>0.72</td>\n",
       "      <td>0</td>\n",
       "      <td>0</td>\n",
       "      <td>No</td>\n",
       "      <td>children</td>\n",
       "      <td>Rural</td>\n",
       "      <td>62.13</td>\n",
       "      <td>16.8</td>\n",
       "      <td>Unknown</td>\n",
       "      <td>0</td>\n",
       "      <td>Baby [0,3)</td>\n",
       "    </tr>\n",
       "    <tr>\n",
       "      <th>5095</th>\n",
       "      <td>68598</td>\n",
       "      <td>Male</td>\n",
       "      <td>1.08</td>\n",
       "      <td>0</td>\n",
       "      <td>0</td>\n",
       "      <td>No</td>\n",
       "      <td>children</td>\n",
       "      <td>Rural</td>\n",
       "      <td>79.15</td>\n",
       "      <td>17.4</td>\n",
       "      <td>Unknown</td>\n",
       "      <td>0</td>\n",
       "      <td>Baby [0,3)</td>\n",
       "    </tr>\n",
       "  </tbody>\n",
       "</table>\n",
       "<p>169 rows × 13 columns</p>\n",
       "</div>"
      ],
      "text/plain": [
       "         id  gender   age  hypertension  heart_disease ever_married work_type  \\\n",
       "363    7559  Female  0.64             0              0           No  children   \n",
       "376   22706  Female  0.88             0              0           No  children   \n",
       "437    5010  Female  2.00             0              0           No  children   \n",
       "562   45238  Female  1.80             0              0           No  children   \n",
       "564   61511  Female  0.32             0              0           No  children   \n",
       "...     ...     ...   ...           ...            ...          ...       ...   \n",
       "4961   3720  Female  2.00             0              0           No  children   \n",
       "5032  67426  Female  1.24             0              0           No  children   \n",
       "5079  42709    Male  1.72             0              0           No  children   \n",
       "5089  56714  Female  0.72             0              0           No  children   \n",
       "5095  68598    Male  1.08             0              0           No  children   \n",
       "\n",
       "     Residence_type  avg_glucose_level   bmi smoking_status  stroke  \\\n",
       "363           Urban              83.82  24.9        Unknown       0   \n",
       "376           Rural              88.11  15.5        Unknown       0   \n",
       "437           Rural              92.48  18.0        Unknown       0   \n",
       "562           Urban              58.26  16.5        Unknown       0   \n",
       "564           Rural              73.71  16.2        Unknown       0   \n",
       "...             ...                ...   ...            ...     ...   \n",
       "4961          Rural              80.30  21.2        Unknown       0   \n",
       "5032          Rural              61.94  20.3        Unknown       0   \n",
       "5079          Urban              77.28  17.1        Unknown       0   \n",
       "5089          Rural              62.13  16.8        Unknown       0   \n",
       "5095          Rural              79.15  17.4        Unknown       0   \n",
       "\n",
       "     Segment_Age  \n",
       "363   Baby [0,3)  \n",
       "376   Baby [0,3)  \n",
       "437   Baby [0,3)  \n",
       "562   Baby [0,3)  \n",
       "564   Baby [0,3)  \n",
       "...          ...  \n",
       "4961  Baby [0,3)  \n",
       "5032  Baby [0,3)  \n",
       "5079  Baby [0,3)  \n",
       "5089  Baby [0,3)  \n",
       "5095  Baby [0,3)  \n",
       "\n",
       "[169 rows x 13 columns]"
      ]
     },
     "execution_count": 20,
     "metadata": {},
     "output_type": "execute_result"
    }
   ],
   "source": [
    "data_baby=data.query(\"Segment_Age == 'Baby [0,3)'\")\n",
    "data_baby"
   ]
  },
  {
   "cell_type": "markdown",
   "id": "f032ad2f",
   "metadata": {},
   "source": [
    "### Data Analysis"
   ]
  },
  {
   "cell_type": "code",
   "execution_count": 21,
   "id": "96bfc353",
   "metadata": {},
   "outputs": [
    {
     "data": {
      "image/png": "[encoded data removed]",
      "text/plain": [
       "<Figure size 504x360 with 1 Axes>"
      ]
     },
     "metadata": {
      "needs_background": "light"
     },
     "output_type": "display_data"
    }
   ],
   "source": [
    "plt.figure(figsize=(7,5)) \n",
    "plt.title(\"Percentage of Stroke Status (1 Yes, 0 No)\", fontsize = 12,fontweight=\"bold\")\n",
    "ax=sns.countplot(data[\"stroke\"], palette=\"mako\")\n",
    "plt.xlabel(\"Stroke Status\", fontsize = 11)\n",
    "plt.ylabel(\"Count\", fontsize = 11)\n",
    "plt.xticks(ticks=[0, 1], labels=['Not Stroke', 'Stroke'])\n",
    "total=len(data)\n",
    "for p in ax.patches:\n",
    "        ax.annotate(f'{100 * p.get_height() / total:.2f}%\\n', (p.get_x() + p.get_width() / 2,p.get_height()),ha='center', va='center',weight='bold')"
   ]
  },
  {
   "cell_type": "code",
   "execution_count": 22,
   "id": "9bd6b35b",
   "metadata": {},
   "outputs": [
    {
     "data": {
      "image/png": "[encoded data removed]",
      "text/plain": [
       "<Figure size 504x360 with 1 Axes>"
      ]
     },
     "metadata": {
      "needs_background": "light"
     },
     "output_type": "display_data"
    }
   ],
   "source": [
    "plt.figure(figsize=(7,5)) \n",
    "plt.title(\"Average of Age by Stroke Status\", fontsize = 12,fontweight=\"bold\")\n",
    "ax=sns.barplot(data=data, x=data[\"stroke\"], y=\"age\",palette=\"mako\",ci=None)\n",
    "plt.xlabel(\"Stroke Status\", fontsize = 10)\n",
    "plt.ylabel(\"Age\", fontsize = 10)\n",
    "plt.xticks(ticks=[0, 1], labels=['Not Stroke', 'Stroke']);\n",
    "for p in ax.patches:\n",
    "        ax.annotate('{:.2f}'.format(p.get_height()), (p.get_x()+0.3, p.get_height()+0.4),weight='bold')"
   ]
  },
  {
   "cell_type": "code",
   "execution_count": 23,
   "id": "1761d7e6",
   "metadata": {},
   "outputs": [],
   "source": [
    "stroke_by_gender = pd.pivot_table(data, values='id', index='gender', columns='stroke', aggfunc=len).fillna(0.0)\n",
    "stroke_by_gender.columns = ['Not Stroke', 'Stroke']"
   ]
  },
  {
   "cell_type": "code",
   "execution_count": 24,
   "id": "e00691e8",
   "metadata": {},
   "outputs": [
    {
     "data": {
      "image/png": "[encoded data removed]",
      "text/plain": [
       "<Figure size 1080x504 with 2 Axes>"
      ]
     },
     "metadata": {},
     "output_type": "display_data"
    }
   ],
   "source": [
    "stroke_by_gender.plot(\n",
    "    kind='pie',\n",
    "    figsize=(15, 7),\n",
    "    startangle=90,\n",
    "    subplots=True,\n",
    "    autopct=lambda x: '%0.1f%%' % x,\n",
    "    title='Stroke by Gender'\n",
    ")\n",
    "\n",
    "plt.show()"
   ]
  },
  {
   "cell_type": "code",
   "execution_count": 25,
   "id": "7373ea5c",
   "metadata": {},
   "outputs": [],
   "source": [
    "stroke_by_work_type = pd.pivot_table(data, values='id', index='work_type', columns='stroke', aggfunc=len).fillna(0.0)\n",
    "stroke_by_work_type.columns = ['Not Stroke', 'Stroke']"
   ]
  },
  {
   "cell_type": "code",
   "execution_count": 26,
   "id": "e4fb21f0",
   "metadata": {},
   "outputs": [
    {
     "data": {
      "text/html": [
       "<div>\n",
       "<style scoped>\n",
       "    .dataframe tbody tr th:only-of-type {\n",
       "        vertical-align: middle;\n",
       "    }\n",
       "\n",
       "    .dataframe tbody tr th {\n",
       "        vertical-align: top;\n",
       "    }\n",
       "\n",
       "    .dataframe thead th {\n",
       "        text-align: right;\n",
       "    }\n",
       "</style>\n",
       "<table border=\"1\" class=\"dataframe\">\n",
       "  <thead>\n",
       "    <tr style=\"text-align: right;\">\n",
       "      <th></th>\n",
       "      <th>Not Stroke</th>\n",
       "      <th>Stroke</th>\n",
       "    </tr>\n",
       "    <tr>\n",
       "      <th>work_type</th>\n",
       "      <th></th>\n",
       "      <th></th>\n",
       "    </tr>\n",
       "  </thead>\n",
       "  <tbody>\n",
       "    <tr>\n",
       "      <th>Govt_job</th>\n",
       "      <td>602.0</td>\n",
       "      <td>28.0</td>\n",
       "    </tr>\n",
       "    <tr>\n",
       "      <th>Never_worked</th>\n",
       "      <td>22.0</td>\n",
       "      <td>0.0</td>\n",
       "    </tr>\n",
       "    <tr>\n",
       "      <th>Private</th>\n",
       "      <td>2683.0</td>\n",
       "      <td>127.0</td>\n",
       "    </tr>\n",
       "    <tr>\n",
       "      <th>Self-employed</th>\n",
       "      <td>722.0</td>\n",
       "      <td>53.0</td>\n",
       "    </tr>\n",
       "    <tr>\n",
       "      <th>children</th>\n",
       "      <td>670.0</td>\n",
       "      <td>1.0</td>\n",
       "    </tr>\n",
       "  </tbody>\n",
       "</table>\n",
       "</div>"
      ],
      "text/plain": [
       "               Not Stroke  Stroke\n",
       "work_type                        \n",
       "Govt_job            602.0    28.0\n",
       "Never_worked         22.0     0.0\n",
       "Private            2683.0   127.0\n",
       "Self-employed       722.0    53.0\n",
       "children            670.0     1.0"
      ]
     },
     "execution_count": 26,
     "metadata": {},
     "output_type": "execute_result"
    }
   ],
   "source": [
    "stroke_by_work_type"
   ]
  },
  {
   "cell_type": "code",
   "execution_count": 27,
   "id": "424da42f",
   "metadata": {},
   "outputs": [
    {
     "data": {
      "image/png": "[encoded data removed]",
      "text/plain": [
       "<Figure size 1080x504 with 1 Axes>"
      ]
     },
     "metadata": {
      "needs_background": "light"
     },
     "output_type": "display_data"
    }
   ],
   "source": [
    "stroke_by_work_type.plot(\n",
    "    kind='bar',\n",
    "    figsize=(15, 7),\n",
    "    title='Stroke by Working Type',\n",
    "    grid=True,\n",
    ")\n",
    "\n",
    "plt.show()"
   ]
  },
  {
   "cell_type": "code",
   "execution_count": 29,
   "id": "4837d825",
   "metadata": {},
   "outputs": [
    {
     "data": {
      "text/plain": [
       "<matplotlib.legend.Legend at 0x21694a9c910>"
      ]
     },
     "execution_count": 29,
     "metadata": {},
     "output_type": "execute_result"
    },
    {
     "data": {
      "image/png": "[encoded data removed]",
      "text/plain": [
       "<Figure size 720x504 with 1 Axes>"
      ]
     },
     "metadata": {
      "needs_background": "light"
     },
     "output_type": "display_data"
    }
   ],
   "source": [
    "sns.set_palette(\"Blues\")\n",
    "plt.figure(figsize=(10,7))\n",
    "ax = sns.distplot(data[data[\"stroke\"]==1][\"age\"], label=\"Stroke\",color='steelblue')\n",
    "ax = sns.distplot(data[data[\"stroke\"]==0][\"age\"], label= \"No Stroke\",color='skyblue')\n",
    "ax.set_title('Percentage of Gender',fontweight=\"bold\")\n",
    "plt.grid()\n",
    "plt.legend()"
   ]
  },
  {
   "cell_type": "code",
   "execution_count": 30,
   "id": "1dabc620",
   "metadata": {},
   "outputs": [
    {
     "data": {
      "text/plain": [
       "<matplotlib.legend.Legend at 0x21694be6a60>"
      ]
     },
     "execution_count": 30,
     "metadata": {},
     "output_type": "execute_result"
    },
    {
     "data": {
      "image/png": "[encoded data removed]",
      "text/plain": [
       "<Figure size 720x504 with 1 Axes>"
      ]
     },
     "metadata": {
      "needs_background": "light"
     },
     "output_type": "display_data"
    }
   ],
   "source": [
    "plt.figure(figsize=(10,7))\n",
    "ax = sns.distplot(data[data[\"stroke\"]==1][\"bmi\"], label=\"Stroke\", color='steelblue')\n",
    "ax = sns.distplot(data[data[\"stroke\"]==0][\"bmi\"], label= \"No Stroke\",color='skyblue')\n",
    "ax.set_title('Percentage of Gender',fontweight=\"bold\")\n",
    "plt.grid()\n",
    "plt.legend()"
   ]
  },
  {
   "cell_type": "code",
   "execution_count": 31,
   "id": "be0d99a2",
   "metadata": {},
   "outputs": [
    {
     "data": {
      "text/plain": [
       "<matplotlib.legend.Legend at 0x21694fbfc70>"
      ]
     },
     "execution_count": 31,
     "metadata": {},
     "output_type": "execute_result"
    },
    {
     "data": {
      "image/png": "[encoded data removed]",
      "text/plain": [
       "<Figure size 720x504 with 1 Axes>"
      ]
     },
     "metadata": {
      "needs_background": "light"
     },
     "output_type": "display_data"
    }
   ],
   "source": [
    "plt.figure(figsize=(10,7))\n",
    "ax = sns.distplot(data[data[\"stroke\"]==1][\"avg_glucose_level\"], label=\"Stroke\",color='steelblue')\n",
    "ax = sns.distplot(data[data[\"stroke\"]==0][\"avg_glucose_level\"], label= \"No Stroke\", color=\"skyblue\")\n",
    "ax.set_title('Percentage of Gender',fontweight=\"bold\")\n",
    "#plt.grid()\n",
    "plt.legend()"
   ]
  },
  {
   "cell_type": "markdown",
   "id": "9d0d1437",
   "metadata": {},
   "source": [
    "### Data Preparations"
   ]
  },
  {
   "cell_type": "code",
   "execution_count": 50,
   "id": "cd41b60c",
   "metadata": {},
   "outputs": [
    {
     "data": {
      "image/png": "[encoded data removed]",
      "text/plain": [
       "<Figure size 576x720 with 2 Axes>"
      ]
     },
     "metadata": {
      "needs_background": "light"
     },
     "output_type": "display_data"
    }
   ],
   "source": [
    "fig = plt.figure(figsize=(8,10))\n",
    "ax = sns.heatmap(data.corr()[['stroke']].sort_values('stroke', ascending=False), annot = True, annot_kws = {\"size\":12}, cmap='Blues')\n",
    "ax.set_title('Korelasi antara Variabel Kontinu dengan stroke_status', fontsize=18)\n",
    "ax.set_ylabel('Features', fontsize = 16)\n",
    "ax.tick_params(axis = \"both\", labelsize = 12);\n",
    "y_min, y_max = ax.get_ylim()\n",
    "ax.set_ylim(top=y_max+1);"
   ]
  },
  {
   "cell_type": "code",
   "execution_count": 51,
   "id": "fd77075e",
   "metadata": {},
   "outputs": [
    {
     "data": {
      "text/html": [
       "<div>\n",
       "<style scoped>\n",
       "    .dataframe tbody tr th:only-of-type {\n",
       "        vertical-align: middle;\n",
       "    }\n",
       "\n",
       "    .dataframe tbody tr th {\n",
       "        vertical-align: top;\n",
       "    }\n",
       "\n",
       "    .dataframe thead th {\n",
       "        text-align: right;\n",
       "    }\n",
       "</style>\n",
       "<table border=\"1\" class=\"dataframe\">\n",
       "  <thead>\n",
       "    <tr style=\"text-align: right;\">\n",
       "      <th></th>\n",
       "      <th>age</th>\n",
       "      <th>hypertension</th>\n",
       "      <th>heart_disease</th>\n",
       "      <th>avg_glucose_level</th>\n",
       "      <th>bmi</th>\n",
       "    </tr>\n",
       "  </thead>\n",
       "  <tbody>\n",
       "    <tr>\n",
       "      <th>0</th>\n",
       "      <td>67.0</td>\n",
       "      <td>0</td>\n",
       "      <td>1</td>\n",
       "      <td>228.69</td>\n",
       "      <td>36.6</td>\n",
       "    </tr>\n",
       "    <tr>\n",
       "      <th>2</th>\n",
       "      <td>80.0</td>\n",
       "      <td>0</td>\n",
       "      <td>1</td>\n",
       "      <td>105.92</td>\n",
       "      <td>32.5</td>\n",
       "    </tr>\n",
       "    <tr>\n",
       "      <th>3</th>\n",
       "      <td>49.0</td>\n",
       "      <td>0</td>\n",
       "      <td>0</td>\n",
       "      <td>171.23</td>\n",
       "      <td>34.4</td>\n",
       "    </tr>\n",
       "    <tr>\n",
       "      <th>4</th>\n",
       "      <td>79.0</td>\n",
       "      <td>1</td>\n",
       "      <td>0</td>\n",
       "      <td>174.12</td>\n",
       "      <td>24.0</td>\n",
       "    </tr>\n",
       "    <tr>\n",
       "      <th>5</th>\n",
       "      <td>81.0</td>\n",
       "      <td>0</td>\n",
       "      <td>0</td>\n",
       "      <td>186.21</td>\n",
       "      <td>29.0</td>\n",
       "    </tr>\n",
       "    <tr>\n",
       "      <th>...</th>\n",
       "      <td>...</td>\n",
       "      <td>...</td>\n",
       "      <td>...</td>\n",
       "      <td>...</td>\n",
       "      <td>...</td>\n",
       "    </tr>\n",
       "    <tr>\n",
       "      <th>5104</th>\n",
       "      <td>13.0</td>\n",
       "      <td>0</td>\n",
       "      <td>0</td>\n",
       "      <td>103.08</td>\n",
       "      <td>18.6</td>\n",
       "    </tr>\n",
       "    <tr>\n",
       "      <th>5106</th>\n",
       "      <td>81.0</td>\n",
       "      <td>0</td>\n",
       "      <td>0</td>\n",
       "      <td>125.20</td>\n",
       "      <td>40.0</td>\n",
       "    </tr>\n",
       "    <tr>\n",
       "      <th>5107</th>\n",
       "      <td>35.0</td>\n",
       "      <td>0</td>\n",
       "      <td>0</td>\n",
       "      <td>82.99</td>\n",
       "      <td>30.6</td>\n",
       "    </tr>\n",
       "    <tr>\n",
       "      <th>5108</th>\n",
       "      <td>51.0</td>\n",
       "      <td>0</td>\n",
       "      <td>0</td>\n",
       "      <td>166.29</td>\n",
       "      <td>25.6</td>\n",
       "    </tr>\n",
       "    <tr>\n",
       "      <th>5109</th>\n",
       "      <td>44.0</td>\n",
       "      <td>0</td>\n",
       "      <td>0</td>\n",
       "      <td>85.28</td>\n",
       "      <td>26.2</td>\n",
       "    </tr>\n",
       "  </tbody>\n",
       "</table>\n",
       "<p>4908 rows × 5 columns</p>\n",
       "</div>"
      ],
      "text/plain": [
       "       age  hypertension  heart_disease  avg_glucose_level   bmi\n",
       "0     67.0             0              1             228.69  36.6\n",
       "2     80.0             0              1             105.92  32.5\n",
       "3     49.0             0              0             171.23  34.4\n",
       "4     79.0             1              0             174.12  24.0\n",
       "5     81.0             0              0             186.21  29.0\n",
       "...    ...           ...            ...                ...   ...\n",
       "5104  13.0             0              0             103.08  18.6\n",
       "5106  81.0             0              0             125.20  40.0\n",
       "5107  35.0             0              0              82.99  30.6\n",
       "5108  51.0             0              0             166.29  25.6\n",
       "5109  44.0             0              0              85.28  26.2\n",
       "\n",
       "[4908 rows x 5 columns]"
      ]
     },
     "execution_count": 51,
     "metadata": {},
     "output_type": "execute_result"
    }
   ],
   "source": [
    "continuous_vars = [\"age\",\"hypertension\",\"heart_disease\",\"avg_glucose_level\",\"bmi\"]\n",
    "data[continuous_vars]"
   ]
  },
  {
   "cell_type": "code",
   "execution_count": 52,
   "id": "c5c36cd8",
   "metadata": {},
   "outputs": [
    {
     "data": {
      "text/html": [
       "<div>\n",
       "<style scoped>\n",
       "    .dataframe tbody tr th:only-of-type {\n",
       "        vertical-align: middle;\n",
       "    }\n",
       "\n",
       "    .dataframe tbody tr th {\n",
       "        vertical-align: top;\n",
       "    }\n",
       "\n",
       "    .dataframe thead th {\n",
       "        text-align: right;\n",
       "    }\n",
       "</style>\n",
       "<table border=\"1\" class=\"dataframe\">\n",
       "  <thead>\n",
       "    <tr style=\"text-align: right;\">\n",
       "      <th></th>\n",
       "      <th>gender</th>\n",
       "      <th>ever_married</th>\n",
       "      <th>work_type</th>\n",
       "      <th>Residence_type</th>\n",
       "      <th>smoking_status</th>\n",
       "    </tr>\n",
       "  </thead>\n",
       "  <tbody>\n",
       "    <tr>\n",
       "      <th>0</th>\n",
       "      <td>Male</td>\n",
       "      <td>Yes</td>\n",
       "      <td>Private</td>\n",
       "      <td>Urban</td>\n",
       "      <td>formerly smoked</td>\n",
       "    </tr>\n",
       "    <tr>\n",
       "      <th>2</th>\n",
       "      <td>Male</td>\n",
       "      <td>Yes</td>\n",
       "      <td>Private</td>\n",
       "      <td>Rural</td>\n",
       "      <td>never smoked</td>\n",
       "    </tr>\n",
       "    <tr>\n",
       "      <th>3</th>\n",
       "      <td>Female</td>\n",
       "      <td>Yes</td>\n",
       "      <td>Private</td>\n",
       "      <td>Urban</td>\n",
       "      <td>smokes</td>\n",
       "    </tr>\n",
       "    <tr>\n",
       "      <th>4</th>\n",
       "      <td>Female</td>\n",
       "      <td>Yes</td>\n",
       "      <td>Self-employed</td>\n",
       "      <td>Rural</td>\n",
       "      <td>never smoked</td>\n",
       "    </tr>\n",
       "    <tr>\n",
       "      <th>5</th>\n",
       "      <td>Male</td>\n",
       "      <td>Yes</td>\n",
       "      <td>Private</td>\n",
       "      <td>Urban</td>\n",
       "      <td>formerly smoked</td>\n",
       "    </tr>\n",
       "    <tr>\n",
       "      <th>...</th>\n",
       "      <td>...</td>\n",
       "      <td>...</td>\n",
       "      <td>...</td>\n",
       "      <td>...</td>\n",
       "      <td>...</td>\n",
       "    </tr>\n",
       "    <tr>\n",
       "      <th>5104</th>\n",
       "      <td>Female</td>\n",
       "      <td>No</td>\n",
       "      <td>children</td>\n",
       "      <td>Rural</td>\n",
       "      <td>Unknown</td>\n",
       "    </tr>\n",
       "    <tr>\n",
       "      <th>5106</th>\n",
       "      <td>Female</td>\n",
       "      <td>Yes</td>\n",
       "      <td>Self-employed</td>\n",
       "      <td>Urban</td>\n",
       "      <td>never smoked</td>\n",
       "    </tr>\n",
       "    <tr>\n",
       "      <th>5107</th>\n",
       "      <td>Female</td>\n",
       "      <td>Yes</td>\n",
       "      <td>Self-employed</td>\n",
       "      <td>Rural</td>\n",
       "      <td>never smoked</td>\n",
       "    </tr>\n",
       "    <tr>\n",
       "      <th>5108</th>\n",
       "      <td>Male</td>\n",
       "      <td>Yes</td>\n",
       "      <td>Private</td>\n",
       "      <td>Rural</td>\n",
       "      <td>formerly smoked</td>\n",
       "    </tr>\n",
       "    <tr>\n",
       "      <th>5109</th>\n",
       "      <td>Female</td>\n",
       "      <td>Yes</td>\n",
       "      <td>Govt_job</td>\n",
       "      <td>Urban</td>\n",
       "      <td>Unknown</td>\n",
       "    </tr>\n",
       "  </tbody>\n",
       "</table>\n",
       "<p>4908 rows × 5 columns</p>\n",
       "</div>"
      ],
      "text/plain": [
       "      gender ever_married      work_type Residence_type   smoking_status\n",
       "0       Male          Yes        Private          Urban  formerly smoked\n",
       "2       Male          Yes        Private          Rural     never smoked\n",
       "3     Female          Yes        Private          Urban           smokes\n",
       "4     Female          Yes  Self-employed          Rural     never smoked\n",
       "5       Male          Yes        Private          Urban  formerly smoked\n",
       "...      ...          ...            ...            ...              ...\n",
       "5104  Female           No       children          Rural          Unknown\n",
       "5106  Female          Yes  Self-employed          Urban     never smoked\n",
       "5107  Female          Yes  Self-employed          Rural     never smoked\n",
       "5108    Male          Yes        Private          Rural  formerly smoked\n",
       "5109  Female          Yes       Govt_job          Urban          Unknown\n",
       "\n",
       "[4908 rows x 5 columns]"
      ]
     },
     "execution_count": 52,
     "metadata": {},
     "output_type": "execute_result"
    }
   ],
   "source": [
    "categ_vars = [\"gender\",\"ever_married\",\"work_type\",\"Residence_type\",\"smoking_status\"]\n",
    "data[categ_vars]"
   ]
  },
  {
   "cell_type": "markdown",
   "id": "0b2b456a",
   "metadata": {},
   "source": [
    "### Regression Analysis with Continuous Variables Only"
   ]
  },
  {
   "cell_type": "code",
   "execution_count": 53,
   "id": "8254105f",
   "metadata": {},
   "outputs": [],
   "source": [
    "import statsmodels.api as sm"
   ]
  },
  {
   "cell_type": "code",
   "execution_count": 54,
   "id": "dd267437",
   "metadata": {},
   "outputs": [],
   "source": [
    "logit = sm.Logit(\n",
    "    data['stroke'], \n",
    "    data[continuous_vars]\n",
    ")"
   ]
  },
  {
   "cell_type": "code",
   "execution_count": 55,
   "id": "37f29ee9",
   "metadata": {},
   "outputs": [
    {
     "name": "stdout",
     "output_type": "stream",
     "text": [
      "Optimization terminated successfully.\n",
      "         Current function value: 0.172056\n",
      "         Iterations 8\n"
     ]
    }
   ],
   "source": [
    "logit_fit = logit.fit()"
   ]
  },
  {
   "cell_type": "code",
   "execution_count": 56,
   "id": "086fe248",
   "metadata": {},
   "outputs": [
    {
     "data": {
      "text/html": [
       "<table class=\"simpletable\">\n",
       "<caption>Logit Regression Results</caption>\n",
       "<tr>\n",
       "  <th>Dep. Variable:</th>        <td>stroke</td>      <th>  No. Observations:  </th>  <td>  4908</td>  \n",
       "</tr>\n",
       "<tr>\n",
       "  <th>Model:</th>                 <td>Logit</td>      <th>  Df Residuals:      </th>  <td>  4903</td>  \n",
       "</tr>\n",
       "<tr>\n",
       "  <th>Method:</th>                 <td>MLE</td>       <th>  Df Model:          </th>  <td>     4</td>  \n",
       "</tr>\n",
       "<tr>\n",
       "  <th>Date:</th>            <td>Tue, 26 Jul 2022</td> <th>  Pseudo R-squ.:     </th>  <td>0.02279</td> \n",
       "</tr>\n",
       "<tr>\n",
       "  <th>Time:</th>                <td>02:31:44</td>     <th>  Log-Likelihood:    </th> <td> -844.45</td> \n",
       "</tr>\n",
       "<tr>\n",
       "  <th>converged:</th>             <td>True</td>       <th>  LL-Null:           </th> <td> -864.15</td> \n",
       "</tr>\n",
       "<tr>\n",
       "  <th>Covariance Type:</th>     <td>nonrobust</td>    <th>  LLR p-value:       </th> <td>5.770e-08</td>\n",
       "</tr>\n",
       "</table>\n",
       "<table class=\"simpletable\">\n",
       "<tr>\n",
       "          <td></td>             <th>coef</th>     <th>std err</th>      <th>z</th>      <th>P>|z|</th>  <th>[0.025</th>    <th>0.975]</th>  \n",
       "</tr>\n",
       "<tr>\n",
       "  <th>age</th>               <td>    0.0338</td> <td>    0.003</td> <td>   10.258</td> <td> 0.000</td> <td>    0.027</td> <td>    0.040</td>\n",
       "</tr>\n",
       "<tr>\n",
       "  <th>hypertension</th>      <td>    1.0699</td> <td>    0.180</td> <td>    5.958</td> <td> 0.000</td> <td>    0.718</td> <td>    1.422</td>\n",
       "</tr>\n",
       "<tr>\n",
       "  <th>heart_disease</th>     <td>    0.8492</td> <td>    0.210</td> <td>    4.039</td> <td> 0.000</td> <td>    0.437</td> <td>    1.261</td>\n",
       "</tr>\n",
       "<tr>\n",
       "  <th>avg_glucose_level</th> <td>    0.0002</td> <td>    0.001</td> <td>    0.172</td> <td> 0.864</td> <td>   -0.003</td> <td>    0.003</td>\n",
       "</tr>\n",
       "<tr>\n",
       "  <th>bmi</th>               <td>   -0.1803</td> <td>    0.009</td> <td>  -20.590</td> <td> 0.000</td> <td>   -0.197</td> <td>   -0.163</td>\n",
       "</tr>\n",
       "</table>"
      ],
      "text/plain": [
       "<class 'statsmodels.iolib.summary.Summary'>\n",
       "\"\"\"\n",
       "                           Logit Regression Results                           \n",
       "==============================================================================\n",
       "Dep. Variable:                 stroke   No. Observations:                 4908\n",
       "Model:                          Logit   Df Residuals:                     4903\n",
       "Method:                           MLE   Df Model:                            4\n",
       "Date:                Tue, 26 Jul 2022   Pseudo R-squ.:                 0.02279\n",
       "Time:                        02:31:44   Log-Likelihood:                -844.45\n",
       "converged:                       True   LL-Null:                       -864.15\n",
       "Covariance Type:            nonrobust   LLR p-value:                 5.770e-08\n",
       "=====================================================================================\n",
       "                        coef    std err          z      P>|z|      [0.025      0.975]\n",
       "-------------------------------------------------------------------------------------\n",
       "age                   0.0338      0.003     10.258      0.000       0.027       0.040\n",
       "hypertension          1.0699      0.180      5.958      0.000       0.718       1.422\n",
       "heart_disease         0.8492      0.210      4.039      0.000       0.437       1.261\n",
       "avg_glucose_level     0.0002      0.001      0.172      0.864      -0.003       0.003\n",
       "bmi                  -0.1803      0.009    -20.590      0.000      -0.197      -0.163\n",
       "=====================================================================================\n",
       "\"\"\""
      ]
     },
     "execution_count": 56,
     "metadata": {},
     "output_type": "execute_result"
    }
   ],
   "source": [
    "logit_fit.summary()"
   ]
  },
  {
   "cell_type": "markdown",
   "id": "49bc7fbc",
   "metadata": {},
   "source": [
    "### Interpretation\n",
    "\n",
    "Berdasarkan hasil summary yang diperoleh, perhatikan bahwa, nilai p-value untuk kolom age, hypertention, heart_disease, dan bmi sangatlah keci, maka terdapat hubungan yang signifikan antara variabel-variabel tersebut dengan stroke_status. \n",
    "\n",
    "Variabel age, hypertension, heart_disease, dan avg_glucose_level memiliki hubungan korelasi positif dengan output variabel (stroke_status). Sedangkan variabel bmi, terdapat hubungan korelasi yang negatif. \n",
    "\n",
    "1. Semakin tinggi usia seseorang, maka kecenderungan orang tersebut terkena stroke akan semakin tinggi.\n",
    "2. Jika seseorang mengidap penyakit hipertensi, maka kecenderungan orang tsb akan terkena stroke semakin besar.\n",
    "3. Jika seseorang mengidap penyakit jantung, maka kecenderungan orang tsb terkena stroke semakin besar.\n",
    "4. Untuk variabel bmi, terdapat korelasi negatif dengan stroke_status. Artinya semakin tinggi nilai bmi maka kecenderungan orang tersebut terkena penyakit stroke semain rendah."
   ]
  },
  {
   "cell_type": "code",
   "execution_count": null,
   "id": "3985b3b0",
   "metadata": {},
   "outputs": [],
   "source": []
  }
 ],
 "metadata": {
  "kernelspec": {
   "display_name": "Python 3",
   "language": "python",
   "name": "python3"
  },
  "language_info": {
   "codemirror_mode": {
    "name": "ipython",
    "version": 3
   },
   "file_extension": ".py",
   "mimetype": "text/x-python",
   "name": "python",
   "nbconvert_exporter": "python",
   "pygments_lexer": "ipython3",
   "version": "3.8.8"
  }
 },
 "nbformat": 4,
 "nbformat_minor": 5
}
